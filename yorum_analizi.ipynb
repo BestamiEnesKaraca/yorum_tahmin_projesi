{
 "cells": [
  {
   "cell_type": "code",
   "execution_count": 2,
   "id": "435945e1",
   "metadata": {},
   "outputs": [
    {
     "name": "stderr",
     "output_type": "stream",
     "text": [
      "c:\\Users\\enesk\\anaconda3\\Lib\\site-packages\\sklearn\\base.py:376: InconsistentVersionWarning: Trying to unpickle estimator Ridge from version 1.4.2 when using version 1.5.1. This might lead to breaking code or invalid results. Use at your own risk. For more info please refer to:\n",
      "https://scikit-learn.org/stable/model_persistence.html#security-maintainability-limitations\n",
      "  warnings.warn(\n",
      "100%|██████████| 55/55 [13:32<00:00, 14.77s/it]\n"
     ]
    },
    {
     "name": "stdout",
     "output_type": "stream",
     "text": [
      "✅ Birleştirilmiş veri dosyası oluşturuldu.\n"
     ]
    }
   ],
   "source": [
    "import os\n",
    "import pandas as pd\n",
    "from sentence_transformers import SentenceTransformer\n",
    "from joblib import load\n",
    "from tqdm import tqdm\n",
    "\n",
    "# === Yollar\n",
    "MODEL_DIR = r\"C:\\Users\\enesk\\OneDrive\\Desktop\\büyük veri\"\n",
    "DATA_DIR = os.path.join(MODEL_DIR, \"etiketli_yorum_dosyaları\")\n",
    "\n",
    "# === Modelleri yükle\n",
    "models = {\n",
    "    \"Openness\": load(os.path.join(MODEL_DIR, \"model_opn.joblib\")),\n",
    "    \"Conscientiousness\": load(os.path.join(MODEL_DIR, \"model_con.joblib\")),\n",
    "    \"Extraversion\": load(os.path.join(MODEL_DIR, \"model_ext.joblib\")),\n",
    "    \"Agreeableness\": load(os.path.join(MODEL_DIR, \"model_agr.joblib\")),\n",
    "    \"Neuroticism\": load(os.path.join(MODEL_DIR, \"model_neu.joblib\"))\n",
    "}\n",
    "\n",
    "# === Embedding modeli\n",
    "embedder = SentenceTransformer(\"paraphrase-multilingual-MiniLM-L12-v2\")\n",
    "\n",
    "# === Dosya listesi\n",
    "csv_files = [f for f in os.listdir(DATA_DIR) if f.endswith(\".csv\")]\n",
    "\n",
    "tum_df = []\n",
    "\n",
    "for file in tqdm(csv_files):\n",
    "    path = os.path.join(DATA_DIR, file)\n",
    "    try:\n",
    "        df = pd.read_csv(path, encoding=\"utf-8-sig\")\n",
    "        if \"review_text\" not in df.columns or \"predicted_label\" not in df.columns:\n",
    "            print(f\"Eksik sütunlar: {file}\")\n",
    "            continue\n",
    "\n",
    "        yorumlar = df[\"review_text\"].astype(str).tolist()\n",
    "        embeddings = embedder.encode(yorumlar, show_progress_bar=False)\n",
    "\n",
    "        for trait, model in models.items():\n",
    "            df[trait] = model.predict(embeddings)\n",
    "\n",
    "        df[\"oyun\"] = file.replace(\"etiketli_\", \"\").replace(\"_yorumlar.csv\", \"\").replace(\"_\", \" \")\n",
    "        tum_df.append(df)\n",
    "\n",
    "    except Exception as e:\n",
    "        print(f\"❌ Hata ({file}): {e}\")\n",
    "\n",
    "# === Hepsini birleştir\n",
    "birlesik_df = pd.concat(tum_df, ignore_index=True)\n",
    "birlesik_df.to_csv(os.path.join(MODEL_DIR, \"yorum_turu_ve_kisilik_etiketli.csv\"), index=False, encoding=\"utf-8-sig\")\n",
    "\n",
    "print(\"✅ Birleştirilmiş veri dosyası oluşturuldu.\")\n"
   ]
  },
  {
   "cell_type": "code",
   "execution_count": 3,
   "id": "9b514a72",
   "metadata": {},
   "outputs": [
    {
     "data": {
      "application/vnd.jupyter.widget-view+json": {
       "model_id": "f1638f54c2c247c8b6907e67f5eb0131",
       "version_major": 2,
       "version_minor": 0
      },
      "text/plain": [
       "Batches:   0%|          | 0/12108 [00:00<?, ?it/s]"
      ]
     },
     "metadata": {},
     "output_type": "display_data"
    },
    {
     "name": "stdout",
     "output_type": "stream",
     "text": [
      "🎯 Yorum Türü Sınıflandırması:\n",
      "                 precision    recall  f1-score   support\n",
      "\n",
      "bilgilendirici       0.77      0.83      0.80     34971\n",
      "     eleştirel       0.70      0.82      0.76     29451\n",
      "fanboy/fangirl       0.54      0.15      0.24      1282\n",
      "          nötr       0.50      0.04      0.08      2952\n",
      "   şaka amaçlı       0.56      0.29      0.38      8831\n",
      "\n",
      "      accuracy                           0.72     77487\n",
      "     macro avg       0.61      0.43      0.45     77487\n",
      "  weighted avg       0.70      0.72      0.70     77487\n",
      "\n",
      "🧠 Openness MSE: 0.0000\n",
      "🧠 Conscientiousness MSE: 0.0000\n",
      "🧠 Extraversion MSE: 0.0000\n",
      "🧠 Agreeableness MSE: 0.0000\n",
      "🧠 Neuroticism MSE: 0.0000\n",
      "✅ Tüm modeller başarıyla eğitildi ve kaydedildi.\n"
     ]
    }
   ],
   "source": [
    "import pandas as pd\n",
    "import numpy as np\n",
    "from sentence_transformers import SentenceTransformer\n",
    "from sklearn.linear_model import LogisticRegression, Ridge\n",
    "from sklearn.model_selection import train_test_split\n",
    "from sklearn.metrics import classification_report, mean_squared_error\n",
    "from joblib import dump\n",
    "\n",
    "# === 1. Veriyi yükle\n",
    "df = pd.read_csv(\"yorum_turu_ve_kisilik_etiketli.csv\", encoding=\"utf-8-sig\")\n",
    "df.dropna(subset=[\"review_text\", \"predicted_label\"], inplace=True)\n",
    "\n",
    "# === 2. Embed modeli\n",
    "embedder = SentenceTransformer(\"paraphrase-multilingual-MiniLM-L12-v2\")\n",
    "\n",
    "# === 3. Giriş ve etiketleri ayır\n",
    "X_text = df[\"review_text\"].astype(str).tolist()\n",
    "y_class = df[\"predicted_label\"]\n",
    "y_traits = df[[\"Openness\", \"Conscientiousness\", \"Extraversion\", \"Agreeableness\", \"Neuroticism\"]]\n",
    "\n",
    "# === 4. Embed (yorum metinlerini vektöre çevir)\n",
    "X_embed = embedder.encode(X_text, show_progress_bar=True)\n",
    "\n",
    "# === 5. Eğitim/test ayrımı\n",
    "X_train, X_test, y_train_cls, y_test_cls = train_test_split(X_embed, y_class, test_size=0.2, random_state=42)\n",
    "_, _, y_train_reg, y_test_reg = train_test_split(X_embed, y_traits, test_size=0.2, random_state=42)\n",
    "\n",
    "# === 6. Sınıflandırıcı model\n",
    "cls_model = LogisticRegression(max_iter=1000)\n",
    "cls_model.fit(X_train, y_train_cls)\n",
    "y_pred_cls = cls_model.predict(X_test)\n",
    "print(\"🎯 Yorum Türü Sınıflandırması:\\n\", classification_report(y_test_cls, y_pred_cls))\n",
    "\n",
    "# === 7. 5 ayrı kişilik regresyon modeli\n",
    "reg_models = {}\n",
    "for trait in y_traits.columns:\n",
    "    reg = Ridge()\n",
    "    reg.fit(X_train, y_train_reg[trait])\n",
    "    y_pred = reg.predict(X_test)\n",
    "    mse = mean_squared_error(y_test_reg[trait], y_pred)\n",
    "    reg_models[trait] = reg\n",
    "    print(f\"🧠 {trait} MSE: {mse:.4f}\")\n",
    "\n",
    "# === 8. Modelleri kaydet (.joblib)\n",
    "dump(cls_model, \"model_yorum_turu.joblib\")\n",
    "for trait, model in reg_models.items():\n",
    "    dump(model, f\"model_{trait[:3].lower()}.joblib\")\n",
    "\n",
    "print(\"✅ Tüm modeller başarıyla eğitildi ve kaydedildi.\")"
   ]
  },
  {
   "cell_type": "code",
   "execution_count": 2,
   "id": "52266a59",
   "metadata": {},
   "outputs": [
    {
     "name": "stderr",
     "output_type": "stream",
     "text": [
      "c:\\Users\\enesk\\anaconda3\\Lib\\site-packages\\sklearn\\base.py:376: InconsistentVersionWarning: Trying to unpickle estimator Ridge from version 1.4.2 when using version 1.5.1. This might lead to breaking code or invalid results. Use at your own risk. For more info please refer to:\n",
      "https://scikit-learn.org/stable/model_persistence.html#security-maintainability-limitations\n",
      "  warnings.warn(\n"
     ]
    },
    {
     "name": "stdout",
     "output_type": "stream",
     "text": [
      "\n",
      "📜 Yorum:\n",
      "if you love greek myth and unlimited action you would love it !!\n",
      "\n",
      "\n",
      "🎭 Tahmini Tür: bilgilendirici (77.03% güven)\n",
      "🧠 Kişilik Skorları:\n",
      "  Openness: 0.587\n",
      "  Conscientiousness: 0.551\n",
      "  Extraversion: 0.432\n",
      "  Agreeableness: 0.629\n",
      "  Neuroticism: 0.435\n"
     ]
    }
   ],
   "source": [
    "import requests\n",
    "import random\n",
    "from sentence_transformers import SentenceTransformer\n",
    "from joblib import load\n",
    "import numpy as np\n",
    "\n",
    "# === 1. Model yükleme\n",
    "embedder = SentenceTransformer(\"paraphrase-multilingual-MiniLM-L12-v2\")\n",
    "cls_model = load(\"model_yorum_turu.joblib\")\n",
    "reg_models = {\n",
    "    \"Openness\": load(\"model_opn.joblib\"),\n",
    "    \"Conscientiousness\": load(\"model_con.joblib\"),\n",
    "    \"Extraversion\": load(\"model_ext.joblib\"),\n",
    "    \"Agreeableness\": load(\"model_agr.joblib\"),\n",
    "    \"Neuroticism\": load(\"model_neu.joblib\")\n",
    "}\n",
    "\n",
    "# === 2. 100 yorumdan rastgele 1 tanesini seç\n",
    "def steam_yorum_api_rastgele(app_id):\n",
    "    url = f\"https://store.steampowered.com/appreviews/{app_id}\"\n",
    "    params = {\n",
    "        \"json\": 1,\n",
    "        \"num_per_page\": 100,\n",
    "        \"language\": \"english\",\n",
    "        \"filter\": \"recent\"\n",
    "    }\n",
    "    response = requests.get(url, params=params)\n",
    "    if response.status_code == 200:\n",
    "        data = response.json()\n",
    "        reviews = data.get(\"reviews\", [])\n",
    "        if reviews:\n",
    "            review = random.choice(reviews)\n",
    "            return review[\"review\"]\n",
    "    return None\n",
    "\n",
    "# === 3. Tahmin\n",
    "def tahmin_et(yorum_metni):\n",
    "    embed = embedder.encode([yorum_metni])\n",
    "    y_pred = cls_model.predict(embed)[0]\n",
    "    y_proba = cls_model.predict_proba(embed)[0]\n",
    "    confidence = np.max(y_proba)\n",
    "\n",
    "    print(f\"\\n🎭 Tahmini Tür: {y_pred} ({confidence:.2%} güven)\")\n",
    "    print(\"🧠 Kişilik Skorları:\")\n",
    "    for trait, model in reg_models.items():\n",
    "        skor = model.predict(embed)[0]\n",
    "        print(f\"  {trait}: {skor:.3f}\")\n",
    "\n",
    "# === 4. Ana entegrasyon\n",
    "def yorum_api_ile_tahmin(app_id):\n",
    "    yorum = steam_yorum_api_rastgele(app_id)\n",
    "    if yorum:\n",
    "        print(f\"\\n📜 Yorum:\\n{yorum}\\n\")\n",
    "        tahmin_et(yorum)\n",
    "    else:\n",
    "        print(\"⚠️ Yorum çekilemedi.\")\n",
    "\n",
    "# === 5. Örnek çağrı: Hades (1145360)\n",
    "yorum_api_ile_tahmin(1145360)"
   ]
  }
 ],
 "metadata": {
  "kernelspec": {
   "display_name": "base",
   "language": "python",
   "name": "python3"
  },
  "language_info": {
   "codemirror_mode": {
    "name": "ipython",
    "version": 3
   },
   "file_extension": ".py",
   "mimetype": "text/x-python",
   "name": "python",
   "nbconvert_exporter": "python",
   "pygments_lexer": "ipython3",
   "version": "3.12.7"
  }
 },
 "nbformat": 4,
 "nbformat_minor": 5
}
