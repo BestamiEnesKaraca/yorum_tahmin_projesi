{
 "cells": [
  {
   "cell_type": "code",
   "execution_count": 1,
   "id": "6e60b1b8",
   "metadata": {},
   "outputs": [],
   "source": [
    "import os\n",
    "import re\n",
    "import pandas as pd\n",
    "from tqdm import tqdm\n",
    "from transformers import pipeline\n",
    "import torch\n",
    "import unicodedata"
   ]
  },
  {
   "cell_type": "code",
   "execution_count": 8,
   "id": "16e9a2f2",
   "metadata": {},
   "outputs": [],
   "source": [
    "\n",
    "# === A. Ayarlar ===\n",
    "klasor_yolu = \"./yorum_dosyaları\"\n",
    "etiketler = [\"eleştirel\", \"şaka amaçlı\", \"bilgilendirici\", \"fanboy/fangirl\", \"nötr\"]\n",
    "batch_size = 8  # yorumları kaçlı gruplar halinde işler"
   ]
  },
  {
   "cell_type": "code",
   "execution_count": 9,
   "id": "b1a98f0e",
   "metadata": {},
   "outputs": [
    {
     "name": "stdout",
     "output_type": "stream",
     "text": [
      "⚙️ Kullanılan cihaz: GPU\n"
     ]
    }
   ],
   "source": [
    "# === B. GPU kontrolü\n",
    "cihaz = 0 if torch.cuda.is_available() else -1\n",
    "print(f\"⚙️ Kullanılan cihaz: {'GPU' if cihaz == 0 else 'CPU'}\")"
   ]
  },
  {
   "cell_type": "code",
   "execution_count": 10,
   "id": "99d0d912",
   "metadata": {},
   "outputs": [
    {
     "name": "stderr",
     "output_type": "stream",
     "text": [
      "Device set to use cuda:0\n"
     ]
    }
   ],
   "source": [
    "# === C. Zero-shot pipeline\n",
    "classifier = pipeline(\n",
    "    \"zero-shot-classification\",\n",
    "    model=\"MoritzLaurer/mDeBERTa-v3-base-mnli-xnli\",\n",
    "    device=cihaz\n",
    ")"
   ]
  },
  {
   "cell_type": "code",
   "execution_count": 11,
   "id": "a23abd9c",
   "metadata": {},
   "outputs": [],
   "source": [
    "# === D. Şaka olup olmadığını belirleyen fonksiyon (Unicode destekli)\n",
    "def is_potential_joke(text, model_label=None, model_score=1.0):\n",
    "    special_chars = [\n",
    "        ch for ch in str(text)\n",
    "        if not ch.isalnum() and not ch.isspace() and unicodedata.category(ch)[0] != \"L\"\n",
    "    ]\n",
    "    return len(special_chars) > 10 and model_score < 0.4"
   ]
  },
  {
   "cell_type": "code",
   "execution_count": 13,
   "id": "715738be",
   "metadata": {},
   "outputs": [
    {
     "name": "stdout",
     "output_type": "stream",
     "text": [
      "\n",
      "📂 Dosya işleniyor: Age_of_Empires_IV_Anniversary_Edition_yorumlar.csv\n",
      "🗂 Etiketlenecek yorum sayısı: 6671\n"
     ]
    },
    {
     "name": "stderr",
     "output_type": "stream",
     "text": [
      "Etiketleniyor...: 100%|██████████| 834/834 [17:34<00:00,  1.26s/it]\n"
     ]
    },
    {
     "name": "stdout",
     "output_type": "stream",
     "text": [
      "✅ Kaydedildi: etiketli_Age_of_Empires_IV_Anniversary_Edition_yorumlar.csv\n",
      "\n",
      "📂 Dosya işleniyor: ARK_yorumlar.csv\n",
      "🗂 Etiketlenecek yorum sayısı: 6081\n"
     ]
    },
    {
     "name": "stderr",
     "output_type": "stream",
     "text": [
      "Etiketleniyor...: 100%|██████████| 761/761 [18:12<00:00,  1.44s/it]\n"
     ]
    },
    {
     "name": "stdout",
     "output_type": "stream",
     "text": [
      "✅ Kaydedildi: etiketli_ARK_yorumlar.csv\n",
      "\n",
      "📂 Dosya işleniyor: Balatro_yorumlar.csv\n",
      "🗂 Etiketlenecek yorum sayısı: 7737\n"
     ]
    },
    {
     "name": "stderr",
     "output_type": "stream",
     "text": [
      "Etiketleniyor...: 100%|██████████| 968/968 [21:50<00:00,  1.35s/it]\n"
     ]
    },
    {
     "name": "stdout",
     "output_type": "stream",
     "text": [
      "✅ Kaydedildi: etiketli_Balatro_yorumlar.csv\n",
      "\n",
      "📂 Dosya işleniyor: Baldurs_gate_3_yorumlar.csv\n",
      "🗂 Etiketlenecek yorum sayısı: 7559\n"
     ]
    },
    {
     "name": "stderr",
     "output_type": "stream",
     "text": [
      "Etiketleniyor...: 100%|██████████| 945/945 [24:32<00:00,  1.56s/it]\n"
     ]
    },
    {
     "name": "stdout",
     "output_type": "stream",
     "text": [
      "✅ Kaydedildi: etiketli_Baldurs_gate_3_yorumlar.csv\n",
      "\n",
      "📂 Dosya işleniyor: Battlefield_1_yorumlar.csv\n",
      "🗂 Etiketlenecek yorum sayısı: 6895\n"
     ]
    },
    {
     "name": "stderr",
     "output_type": "stream",
     "text": [
      "Etiketleniyor...: 100%|██████████| 862/862 [22:26<00:00,  1.56s/it]\n"
     ]
    },
    {
     "name": "stdout",
     "output_type": "stream",
     "text": [
      "✅ Kaydedildi: etiketli_Battlefield_1_yorumlar.csv\n",
      "\n",
      "📂 Dosya işleniyor: Call_of_duty_Warzone_yorumlar.csv\n",
      "🗂 Etiketlenecek yorum sayısı: 7032\n"
     ]
    },
    {
     "name": "stderr",
     "output_type": "stream",
     "text": [
      "Etiketleniyor...: 100%|██████████| 879/879 [23:12<00:00,  1.58s/it]\n"
     ]
    },
    {
     "name": "stdout",
     "output_type": "stream",
     "text": [
      "✅ Kaydedildi: etiketli_Call_of_duty_Warzone_yorumlar.csv\n",
      "\n",
      "📂 Dosya işleniyor: Cities_Skylines_II_yorumlar.csv\n",
      "🗂 Etiketlenecek yorum sayısı: 8213\n"
     ]
    },
    {
     "name": "stderr",
     "output_type": "stream",
     "text": [
      "Etiketleniyor...: 100%|██████████| 1027/1027 [29:02<00:00,  1.70s/it]\n"
     ]
    },
    {
     "name": "stdout",
     "output_type": "stream",
     "text": [
      "✅ Kaydedildi: etiketli_Cities_Skylines_II_yorumlar.csv\n",
      "\n",
      "📂 Dosya işleniyor: Crusader_Kings_III_yorumlar.csv\n",
      "🗂 Etiketlenecek yorum sayısı: 7438\n"
     ]
    },
    {
     "name": "stderr",
     "output_type": "stream",
     "text": [
      "Etiketleniyor...: 100%|██████████| 930/930 [27:34<00:00,  1.78s/it]\n"
     ]
    },
    {
     "name": "stdout",
     "output_type": "stream",
     "text": [
      "✅ Kaydedildi: etiketli_Crusader_Kings_III_yorumlar.csv\n",
      "\n",
      "📂 Dosya işleniyor: CS_2_yorumlar.csv\n",
      "🗂 Etiketlenecek yorum sayısı: 5601\n"
     ]
    },
    {
     "name": "stderr",
     "output_type": "stream",
     "text": [
      "Etiketleniyor...: 100%|██████████| 701/701 [18:40<00:00,  1.60s/it]\n"
     ]
    },
    {
     "name": "stdout",
     "output_type": "stream",
     "text": [
      "✅ Kaydedildi: etiketli_CS_2_yorumlar.csv\n",
      "\n",
      "📂 Dosya işleniyor: Cyberpunk_2077_yorumlar.csv\n",
      "🗂 Etiketlenecek yorum sayısı: 7187\n"
     ]
    },
    {
     "name": "stderr",
     "output_type": "stream",
     "text": [
      "Etiketleniyor...: 100%|██████████| 899/899 [25:28<00:00,  1.70s/it]\n"
     ]
    },
    {
     "name": "stdout",
     "output_type": "stream",
     "text": [
      "✅ Kaydedildi: etiketli_Cyberpunk_2077_yorumlar.csv\n",
      "\n",
      "📂 Dosya işleniyor: Dead_by_daylight_yorumlar.csv\n",
      "🗂 Etiketlenecek yorum sayısı: 7160\n"
     ]
    },
    {
     "name": "stderr",
     "output_type": "stream",
     "text": [
      "Etiketleniyor...: 100%|██████████| 895/895 [25:09<00:00,  1.69s/it]\n"
     ]
    },
    {
     "name": "stdout",
     "output_type": "stream",
     "text": [
      "✅ Kaydedildi: etiketli_Dead_by_daylight_yorumlar.csv\n",
      "\n",
      "📂 Dosya işleniyor: Dead_cells_yorumlar.csv\n",
      "🗂 Etiketlenecek yorum sayısı: 6438\n"
     ]
    },
    {
     "name": "stderr",
     "output_type": "stream",
     "text": [
      "Etiketleniyor...: 100%|██████████| 805/805 [24:04<00:00,  1.79s/it]\n"
     ]
    },
    {
     "name": "stdout",
     "output_type": "stream",
     "text": [
      "✅ Kaydedildi: etiketli_Dead_cells_yorumlar.csv\n",
      "\n",
      "📂 Dosya işleniyor: DOOM_eternal_yorumlar.csv\n",
      "🗂 Etiketlenecek yorum sayısı: 8034\n"
     ]
    },
    {
     "name": "stderr",
     "output_type": "stream",
     "text": [
      "Etiketleniyor...: 100%|██████████| 1005/1005 [28:56<00:00,  1.73s/it]\n"
     ]
    },
    {
     "name": "stdout",
     "output_type": "stream",
     "text": [
      "✅ Kaydedildi: etiketli_DOOM_eternal_yorumlar.csv\n",
      "\n",
      "📂 Dosya işleniyor: EA_SPORTS_FC_25_yorumlar.csv\n",
      "🗂 Etiketlenecek yorum sayısı: 6550\n"
     ]
    },
    {
     "name": "stderr",
     "output_type": "stream",
     "text": [
      "Etiketleniyor...: 100%|██████████| 819/819 [21:19<00:00,  1.56s/it]\n"
     ]
    },
    {
     "name": "stdout",
     "output_type": "stream",
     "text": [
      "✅ Kaydedildi: etiketli_EA_SPORTS_FC_25_yorumlar.csv\n",
      "\n",
      "📂 Dosya işleniyor: Elden_ring_yorumlar.csv\n",
      "🗂 Etiketlenecek yorum sayısı: 7054\n"
     ]
    },
    {
     "name": "stderr",
     "output_type": "stream",
     "text": [
      "Etiketleniyor...: 100%|██████████| 882/882 [23:49<00:00,  1.62s/it]\n"
     ]
    },
    {
     "name": "stdout",
     "output_type": "stream",
     "text": [
      "✅ Kaydedildi: etiketli_Elden_ring_yorumlar.csv\n",
      "\n",
      "📂 Dosya işleniyor: Escape_the_backrooms_yorumlar.csv\n",
      "🗂 Etiketlenecek yorum sayısı: 6225\n"
     ]
    },
    {
     "name": "stderr",
     "output_type": "stream",
     "text": [
      "Etiketleniyor...: 100%|██████████| 779/779 [20:06<00:00,  1.55s/it]\n"
     ]
    },
    {
     "name": "stdout",
     "output_type": "stream",
     "text": [
      "✅ Kaydedildi: etiketli_Escape_the_backrooms_yorumlar.csv\n",
      "\n",
      "📂 Dosya işleniyor: Europa_Universalis_IV_yorumlar.csv\n",
      "🗂 Etiketlenecek yorum sayısı: 7299\n"
     ]
    },
    {
     "name": "stderr",
     "output_type": "stream",
     "text": [
      "Etiketleniyor...: 100%|██████████| 913/913 [23:51<00:00,  1.57s/it]\n"
     ]
    },
    {
     "name": "stdout",
     "output_type": "stream",
     "text": [
      "✅ Kaydedildi: etiketli_Europa_Universalis_IV_yorumlar.csv\n",
      "\n",
      "📂 Dosya işleniyor: Euro_Truck_Simulator_2_yorumlar.csv\n",
      "🗂 Etiketlenecek yorum sayısı: 6491\n"
     ]
    },
    {
     "name": "stderr",
     "output_type": "stream",
     "text": [
      "Etiketleniyor...: 100%|██████████| 812/812 [20:45<00:00,  1.53s/it]\n"
     ]
    },
    {
     "name": "stdout",
     "output_type": "stream",
     "text": [
      "✅ Kaydedildi: etiketli_Euro_Truck_Simulator_2_yorumlar.csv\n",
      "\n",
      "📂 Dosya işleniyor: Expedition_33_yorumlar.csv\n",
      "🗂 Etiketlenecek yorum sayısı: 8403\n"
     ]
    },
    {
     "name": "stderr",
     "output_type": "stream",
     "text": [
      "Etiketleniyor...: 100%|██████████| 1051/1051 [29:53<00:00,  1.71s/it]\n"
     ]
    },
    {
     "name": "stdout",
     "output_type": "stream",
     "text": [
      "✅ Kaydedildi: etiketli_Expedition_33_yorumlar.csv\n",
      "\n",
      "📂 Dosya işleniyor: F1_24_yorumlar.csv\n",
      "🗂 Etiketlenecek yorum sayısı: 6897\n"
     ]
    },
    {
     "name": "stderr",
     "output_type": "stream",
     "text": [
      "Etiketleniyor...: 100%|██████████| 863/863 [22:52<00:00,  1.59s/it]\n"
     ]
    },
    {
     "name": "stdout",
     "output_type": "stream",
     "text": [
      "✅ Kaydedildi: etiketli_F1_24_yorumlar.csv\n",
      "\n",
      "📂 Dosya işleniyor: Football_Manager_2024_yorumlar.csv\n",
      "🗂 Etiketlenecek yorum sayısı: 6067\n"
     ]
    },
    {
     "name": "stderr",
     "output_type": "stream",
     "text": [
      "Etiketleniyor...: 100%|██████████| 759/759 [19:32<00:00,  1.55s/it]\n"
     ]
    },
    {
     "name": "stdout",
     "output_type": "stream",
     "text": [
      "✅ Kaydedildi: etiketli_Football_Manager_2024_yorumlar.csv\n",
      "\n",
      "📂 Dosya işleniyor: Forza_Horizon_5_yorumlar.csv\n",
      "🗂 Etiketlenecek yorum sayısı: 5748\n"
     ]
    },
    {
     "name": "stderr",
     "output_type": "stream",
     "text": [
      "Etiketleniyor...: 100%|██████████| 719/719 [18:41<00:00,  1.56s/it]\n"
     ]
    },
    {
     "name": "stdout",
     "output_type": "stream",
     "text": [
      "✅ Kaydedildi: etiketli_Forza_Horizon_5_yorumlar.csv\n",
      "\n",
      "📂 Dosya işleniyor: God_of_War_yorumlar.csv\n",
      "🗂 Etiketlenecek yorum sayısı: 7146\n"
     ]
    },
    {
     "name": "stderr",
     "output_type": "stream",
     "text": [
      "Etiketleniyor...: 100%|██████████| 894/894 [23:57<00:00,  1.61s/it]\n"
     ]
    },
    {
     "name": "stdout",
     "output_type": "stream",
     "text": [
      "✅ Kaydedildi: etiketli_God_of_War_yorumlar.csv\n",
      "\n",
      "📂 Dosya işleniyor: GTA_5_yorumlar.csv\n",
      "🗂 Etiketlenecek yorum sayısı: 5076\n"
     ]
    },
    {
     "name": "stderr",
     "output_type": "stream",
     "text": [
      "Etiketleniyor...: 100%|██████████| 635/635 [16:13<00:00,  1.53s/it]\n"
     ]
    },
    {
     "name": "stdout",
     "output_type": "stream",
     "text": [
      "✅ Kaydedildi: etiketli_GTA_5_yorumlar.csv\n",
      "\n",
      "📂 Dosya işleniyor: Hades_yorumlar.csv\n",
      "🗂 Etiketlenecek yorum sayısı: 7323\n"
     ]
    },
    {
     "name": "stderr",
     "output_type": "stream",
     "text": [
      "Etiketleniyor...: 100%|██████████| 916/916 [24:36<00:00,  1.61s/it]\n"
     ]
    },
    {
     "name": "stdout",
     "output_type": "stream",
     "text": [
      "✅ Kaydedildi: etiketli_Hades_yorumlar.csv\n",
      "\n",
      "📂 Dosya işleniyor: Loop_hero_yorumlar.csv\n",
      "🗂 Etiketlenecek yorum sayısı: 8003\n"
     ]
    },
    {
     "name": "stderr",
     "output_type": "stream",
     "text": [
      "Etiketleniyor...: 100%|██████████| 1001/1001 [27:36<00:00,  1.65s/it]\n"
     ]
    },
    {
     "name": "stdout",
     "output_type": "stream",
     "text": [
      "✅ Kaydedildi: etiketli_Loop_hero_yorumlar.csv\n",
      "\n",
      "📂 Dosya işleniyor: Mafia_definitive_edition_yorumlar.csv\n",
      "🗂 Etiketlenecek yorum sayısı: 7840\n"
     ]
    },
    {
     "name": "stderr",
     "output_type": "stream",
     "text": [
      "Etiketleniyor...: 100%|██████████| 980/980 [27:33<00:00,  1.69s/it]\n"
     ]
    },
    {
     "name": "stdout",
     "output_type": "stream",
     "text": [
      "✅ Kaydedildi: etiketli_Mafia_definitive_edition_yorumlar.csv\n",
      "\n",
      "📂 Dosya işleniyor: Manor_lords_yorumlar.csv\n",
      "🗂 Etiketlenecek yorum sayısı: 8144\n"
     ]
    },
    {
     "name": "stderr",
     "output_type": "stream",
     "text": [
      "Etiketleniyor...: 100%|██████████| 1018/1018 [28:16<00:00,  1.67s/it]\n"
     ]
    },
    {
     "name": "stdout",
     "output_type": "stream",
     "text": [
      "✅ Kaydedildi: etiketli_Manor_lords_yorumlar.csv\n",
      "\n",
      "📂 Dosya işleniyor: NBA_2K25_yorumlar.csv\n",
      "🗂 Etiketlenecek yorum sayısı: 6213\n"
     ]
    },
    {
     "name": "stderr",
     "output_type": "stream",
     "text": [
      "Etiketleniyor...: 100%|██████████| 777/777 [20:37<00:00,  1.59s/it]\n"
     ]
    },
    {
     "name": "stdout",
     "output_type": "stream",
     "text": [
      "✅ Kaydedildi: etiketli_NBA_2K25_yorumlar.csv\n",
      "\n",
      "📂 Dosya işleniyor: Need_for_Speed_Unbound_yorumlar.csv\n",
      "🗂 Etiketlenecek yorum sayısı: 7751\n"
     ]
    },
    {
     "name": "stderr",
     "output_type": "stream",
     "text": [
      "Etiketleniyor...: 100%|██████████| 969/969 [28:13<00:00,  1.75s/it]\n"
     ]
    },
    {
     "name": "stdout",
     "output_type": "stream",
     "text": [
      "✅ Kaydedildi: etiketli_Need_for_Speed_Unbound_yorumlar.csv\n",
      "\n",
      "📂 Dosya işleniyor: Outlast_yorumlar.csv\n",
      "🗂 Etiketlenecek yorum sayısı: 7888\n"
     ]
    },
    {
     "name": "stderr",
     "output_type": "stream",
     "text": [
      "Etiketleniyor...: 100%|██████████| 986/986 [26:49<00:00,  1.63s/it]\n"
     ]
    },
    {
     "name": "stdout",
     "output_type": "stream",
     "text": [
      "✅ Kaydedildi: etiketli_Outlast_yorumlar.csv\n",
      "\n",
      "📂 Dosya işleniyor: Phasmophobia_yorumlar.csv\n",
      "🗂 Etiketlenecek yorum sayısı: 7222\n"
     ]
    },
    {
     "name": "stderr",
     "output_type": "stream",
     "text": [
      "Etiketleniyor...: 100%|██████████| 903/903 [23:48<00:00,  1.58s/it]\n"
     ]
    },
    {
     "name": "stdout",
     "output_type": "stream",
     "text": [
      "✅ Kaydedildi: etiketli_Phasmophobia_yorumlar.csv\n",
      "\n",
      "📂 Dosya işleniyor: Planet_zoo_yorumlar.csv\n",
      "🗂 Etiketlenecek yorum sayısı: 7495\n"
     ]
    },
    {
     "name": "stderr",
     "output_type": "stream",
     "text": [
      "Etiketleniyor...: 100%|██████████| 937/937 [25:06<00:00,  1.61s/it]\n"
     ]
    },
    {
     "name": "stdout",
     "output_type": "stream",
     "text": [
      "✅ Kaydedildi: etiketli_Planet_zoo_yorumlar.csv\n",
      "\n",
      "📂 Dosya işleniyor: PUBG_yorumlar.csv\n",
      "🗂 Etiketlenecek yorum sayısı: 4891\n"
     ]
    },
    {
     "name": "stderr",
     "output_type": "stream",
     "text": [
      "Etiketleniyor...: 100%|██████████| 612/612 [16:02<00:00,  1.57s/it]\n"
     ]
    },
    {
     "name": "stdout",
     "output_type": "stream",
     "text": [
      "✅ Kaydedildi: etiketli_PUBG_yorumlar.csv\n",
      "\n",
      "📂 Dosya işleniyor: R.E.P.O_yorumlar.csv\n",
      "🗂 Etiketlenecek yorum sayısı: 7192\n"
     ]
    },
    {
     "name": "stderr",
     "output_type": "stream",
     "text": [
      "Etiketleniyor...: 100%|██████████| 899/899 [23:15<00:00,  1.55s/it]\n"
     ]
    },
    {
     "name": "stdout",
     "output_type": "stream",
     "text": [
      "✅ Kaydedildi: etiketli_R.E.P.O_yorumlar.csv\n",
      "\n",
      "📂 Dosya işleniyor: Raft_yorumlar.csv\n",
      "🗂 Etiketlenecek yorum sayısı: 5738\n"
     ]
    },
    {
     "name": "stderr",
     "output_type": "stream",
     "text": [
      "Etiketleniyor...: 100%|██████████| 718/718 [19:04<00:00,  1.59s/it]\n"
     ]
    },
    {
     "name": "stdout",
     "output_type": "stream",
     "text": [
      "✅ Kaydedildi: etiketli_Raft_yorumlar.csv\n",
      "\n",
      "📂 Dosya işleniyor: Rainbow_six_siege_yorumlar.csv\n",
      "🗂 Etiketlenecek yorum sayısı: 6883\n"
     ]
    },
    {
     "name": "stderr",
     "output_type": "stream",
     "text": [
      "Etiketleniyor...: 100%|██████████| 861/861 [22:39<00:00,  1.58s/it]\n"
     ]
    },
    {
     "name": "stdout",
     "output_type": "stream",
     "text": [
      "✅ Kaydedildi: etiketli_Rainbow_six_siege_yorumlar.csv\n",
      "\n",
      "📂 Dosya işleniyor: RDR2_yorumlar.csv\n",
      "🗂 Etiketlenecek yorum sayısı: 6802\n"
     ]
    },
    {
     "name": "stderr",
     "output_type": "stream",
     "text": [
      "Etiketleniyor...: 100%|██████████| 851/851 [25:23<00:00,  1.79s/it]\n"
     ]
    },
    {
     "name": "stdout",
     "output_type": "stream",
     "text": [
      "✅ Kaydedildi: etiketli_RDR2_yorumlar.csv\n",
      "\n",
      "📂 Dosya işleniyor: Ready_or_Not_yorumlar.csv\n",
      "🗂 Etiketlenecek yorum sayısı: 7557\n"
     ]
    },
    {
     "name": "stderr",
     "output_type": "stream",
     "text": [
      "Etiketleniyor...: 100%|██████████| 945/945 [26:33<00:00,  1.69s/it]\n"
     ]
    },
    {
     "name": "stdout",
     "output_type": "stream",
     "text": [
      "✅ Kaydedildi: etiketli_Ready_or_Not_yorumlar.csv\n",
      "\n",
      "📂 Dosya işleniyor: Runied_king_yorumlar.csv\n",
      "🗂 Etiketlenecek yorum sayısı: 8322\n"
     ]
    },
    {
     "name": "stderr",
     "output_type": "stream",
     "text": [
      "Etiketleniyor...: 100%|██████████| 1041/1041 [31:31<00:00,  1.82s/it]\n"
     ]
    },
    {
     "name": "stdout",
     "output_type": "stream",
     "text": [
      "✅ Kaydedildi: etiketli_Runied_king_yorumlar.csv\n",
      "\n",
      "📂 Dosya işleniyor: Rust_yorumlar.csv\n",
      "🗂 Etiketlenecek yorum sayısı: 6749\n"
     ]
    },
    {
     "name": "stderr",
     "output_type": "stream",
     "text": [
      "Etiketleniyor...: 100%|██████████| 844/844 [22:37<00:00,  1.61s/it]\n"
     ]
    },
    {
     "name": "stdout",
     "output_type": "stream",
     "text": [
      "✅ Kaydedildi: etiketli_Rust_yorumlar.csv\n",
      "\n",
      "📂 Dosya işleniyor: S.T.A.L.K.E.R._2_yorumlar.csv\n",
      "🗂 Etiketlenecek yorum sayısı: 8623\n"
     ]
    },
    {
     "name": "stderr",
     "output_type": "stream",
     "text": [
      "Etiketleniyor...: 100%|██████████| 1078/1078 [35:22<00:00,  1.97s/it]\n"
     ]
    },
    {
     "name": "stdout",
     "output_type": "stream",
     "text": [
      "✅ Kaydedildi: etiketli_S.T.A.L.K.E.R._2_yorumlar.csv\n",
      "\n",
      "📂 Dosya işleniyor: Sid_Meier’s_Civilization_VI_yorumlar.csv\n",
      "🗂 Etiketlenecek yorum sayısı: 6264\n"
     ]
    },
    {
     "name": "stderr",
     "output_type": "stream",
     "text": [
      "Etiketleniyor...: 100%|██████████| 783/783 [21:56<00:00,  1.68s/it]\n"
     ]
    },
    {
     "name": "stdout",
     "output_type": "stream",
     "text": [
      "✅ Kaydedildi: etiketli_Sid_Meier’s_Civilization_VI_yorumlar.csv\n",
      "\n",
      "📂 Dosya işleniyor: Slay_the_spire_yorumlar.csv\n",
      "🗂 Etiketlenecek yorum sayısı: 5927\n"
     ]
    },
    {
     "name": "stderr",
     "output_type": "stream",
     "text": [
      "Etiketleniyor...: 100%|██████████| 741/741 [20:08<00:00,  1.63s/it]\n"
     ]
    },
    {
     "name": "stdout",
     "output_type": "stream",
     "text": [
      "✅ Kaydedildi: etiketli_Slay_the_spire_yorumlar.csv\n",
      "\n",
      "📂 Dosya işleniyor: Stardew_Valley_yorumlar.csv\n",
      "🗂 Etiketlenecek yorum sayısı: 6375\n"
     ]
    },
    {
     "name": "stderr",
     "output_type": "stream",
     "text": [
      "Etiketleniyor...: 100%|██████████| 797/797 [21:30<00:00,  1.62s/it]\n"
     ]
    },
    {
     "name": "stdout",
     "output_type": "stream",
     "text": [
      "✅ Kaydedildi: etiketli_Stardew_Valley_yorumlar.csv\n",
      "\n",
      "📂 Dosya işleniyor: Street_Fighter_6_yorumlar.csv\n",
      "🗂 Etiketlenecek yorum sayısı: 7138\n"
     ]
    },
    {
     "name": "stderr",
     "output_type": "stream",
     "text": [
      "Etiketleniyor...: 100%|██████████| 893/893 [25:27<00:00,  1.71s/it]\n"
     ]
    },
    {
     "name": "stdout",
     "output_type": "stream",
     "text": [
      "✅ Kaydedildi: etiketli_Street_Fighter_6_yorumlar.csv\n",
      "\n",
      "📂 Dosya işleniyor: Supermarket_simulator_yorumlar.csv\n",
      "🗂 Etiketlenecek yorum sayısı: 7692\n"
     ]
    },
    {
     "name": "stderr",
     "output_type": "stream",
     "text": [
      "Etiketleniyor...: 100%|██████████| 962/962 [27:10<00:00,  1.69s/it]\n"
     ]
    },
    {
     "name": "stdout",
     "output_type": "stream",
     "text": [
      "✅ Kaydedildi: etiketli_Supermarket_simulator_yorumlar.csv\n",
      "\n",
      "📂 Dosya işleniyor: Team_Fortress_2_yorumlar.csv\n",
      "🗂 Etiketlenecek yorum sayısı: 7605\n"
     ]
    },
    {
     "name": "stderr",
     "output_type": "stream",
     "text": [
      "Etiketleniyor...: 100%|██████████| 951/951 [26:10<00:00,  1.65s/it]\n"
     ]
    },
    {
     "name": "stdout",
     "output_type": "stream",
     "text": [
      "✅ Kaydedildi: etiketli_Team_Fortress_2_yorumlar.csv\n",
      "\n",
      "📂 Dosya işleniyor: The Crew_2_yorumlar.csv\n",
      "🗂 Etiketlenecek yorum sayısı: 6837\n"
     ]
    },
    {
     "name": "stderr",
     "output_type": "stream",
     "text": [
      "Etiketleniyor...: 100%|██████████| 855/855 [23:51<00:00,  1.67s/it]\n"
     ]
    },
    {
     "name": "stdout",
     "output_type": "stream",
     "text": [
      "✅ Kaydedildi: etiketli_The Crew_2_yorumlar.csv\n",
      "\n",
      "📂 Dosya işleniyor: The_forest_yorumlar.csv\n",
      "🗂 Etiketlenecek yorum sayısı: 6985\n"
     ]
    },
    {
     "name": "stderr",
     "output_type": "stream",
     "text": [
      "Etiketleniyor...: 100%|██████████| 874/874 [23:41<00:00,  1.63s/it]\n"
     ]
    },
    {
     "name": "stdout",
     "output_type": "stream",
     "text": [
      "✅ Kaydedildi: etiketli_The_forest_yorumlar.csv\n",
      "\n",
      "📂 Dosya işleniyor: The_last_of_us_I_yorumlar.csv\n",
      "🗂 Etiketlenecek yorum sayısı: 7721\n"
     ]
    },
    {
     "name": "stderr",
     "output_type": "stream",
     "text": [
      "Etiketleniyor...: 100%|██████████| 966/966 [27:30<00:00,  1.71s/it]\n"
     ]
    },
    {
     "name": "stdout",
     "output_type": "stream",
     "text": [
      "✅ Kaydedildi: etiketli_The_last_of_us_I_yorumlar.csv\n",
      "\n",
      "📂 Dosya işleniyor: The_long_dark_yorumlar.csv\n",
      "🗂 Etiketlenecek yorum sayısı: 8095\n"
     ]
    },
    {
     "name": "stderr",
     "output_type": "stream",
     "text": [
      "Etiketleniyor...: 100%|██████████| 1012/1012 [29:11<00:00,  1.73s/it]\n"
     ]
    },
    {
     "name": "stdout",
     "output_type": "stream",
     "text": [
      "✅ Kaydedildi: etiketli_The_long_dark_yorumlar.csv\n",
      "\n",
      "📂 Dosya işleniyor: The_Sims_4_yorumlar.csv\n",
      "🗂 Etiketlenecek yorum sayısı: 7137\n"
     ]
    },
    {
     "name": "stderr",
     "output_type": "stream",
     "text": [
      "Etiketleniyor...: 100%|██████████| 893/893 [25:41<00:00,  1.73s/it]\n"
     ]
    },
    {
     "name": "stdout",
     "output_type": "stream",
     "text": [
      "✅ Kaydedildi: etiketli_The_Sims_4_yorumlar.csv\n",
      "\n",
      "📂 Dosya işleniyor: The_Witcher_3_yorumlar.csv\n",
      "🗂 Etiketlenecek yorum sayısı: 6899\n"
     ]
    },
    {
     "name": "stderr",
     "output_type": "stream",
     "text": [
      "Etiketleniyor...: 100%|██████████| 863/863 [25:31<00:00,  1.77s/it]\n"
     ]
    },
    {
     "name": "stdout",
     "output_type": "stream",
     "text": [
      "✅ Kaydedildi: etiketli_The_Witcher_3_yorumlar.csv\n",
      "\n",
      "📂 Dosya işleniyor: Total_War_WARHAMMER_II_yorumlar.csv\n",
      "🗂 Etiketlenecek yorum sayısı: 7120\n"
     ]
    },
    {
     "name": "stderr",
     "output_type": "stream",
     "text": [
      "Etiketleniyor...: 100%|██████████| 890/890 [24:39<00:00,  1.66s/it]"
     ]
    },
    {
     "name": "stdout",
     "output_type": "stream",
     "text": [
      "✅ Kaydedildi: etiketli_Total_War_WARHAMMER_II_yorumlar.csv\n"
     ]
    },
    {
     "name": "stderr",
     "output_type": "stream",
     "text": [
      "\n"
     ]
    }
   ],
   "source": [
    "# === E. Dosyaları işle\n",
    "for dosya in os.listdir(klasor_yolu):\n",
    "    if dosya.endswith(\".csv\"):\n",
    "        print(f\"\\n📂 Dosya işleniyor: {dosya}\")\n",
    "        try:\n",
    "            df = pd.read_csv(os.path.join(klasor_yolu, dosya), comment=\"#\")\n",
    "            df = df[[\"review_text\"]].dropna()\n",
    "            df = df[df[\"review_text\"].str.len() > 10].reset_index(drop=True)\n",
    "\n",
    "            playtime_var = \"playtime_forever_minutes\" in df.columns\n",
    "            if playtime_var:\n",
    "                df = df[df[\"playtime_forever_minutes\"].notna()].reset_index(drop=True)\n",
    "\n",
    "            print(f\"🗂 Etiketlenecek yorum sayısı: {len(df)}\")\n",
    "\n",
    "            predicted_labels = []\n",
    "            confidences = []\n",
    "            playtimes = df[\"playtime_forever_minutes\"].tolist() if playtime_var else [None] * len(df)\n",
    "            texts = df[\"review_text\"].tolist()\n",
    "\n",
    "            # === Toplu işlem\n",
    "            for i in tqdm(range(0, len(texts), batch_size), desc=\"Etiketleniyor...\"):\n",
    "                batch_texts = texts[i:i+batch_size]\n",
    "                batch_ptimes = playtimes[i:i+batch_size]\n",
    "\n",
    "                results = classifier(\n",
    "                    batch_texts,\n",
    "                    candidate_labels=etiketler,\n",
    "                    multi_label=False\n",
    "                )\n",
    "\n",
    "                for j in range(len(batch_texts)):\n",
    "                    label = results[j][\"labels\"][0]\n",
    "                    score = round(results[j][\"scores\"][0], 2)\n",
    "\n",
    "                    # Özel karakter + skor değerlendirmesi\n",
    "                    if is_potential_joke(batch_texts[j], label, score):\n",
    "                        label = \"şaka amaçlı\"\n",
    "                        score = 0.95\n",
    "\n",
    "                    # Oynama süresine göre etiket düzeltmesi\n",
    "                    play = batch_ptimes[j]\n",
    "                    if playtime_var and play is not None:\n",
    "                        if play < 15 and label not in [\"şaka amaçlı\", \"nötr\"]:\n",
    "                            label = \"nötr\"\n",
    "                            score = round(score * 0.8, 2)\n",
    "                        elif play > 500 and label == \"nötr\":\n",
    "                            label = \"fanboy/fangirl\"\n",
    "                            score = round(score * 0.8, 2)\n",
    "\n",
    "                    predicted_labels.append(label)\n",
    "                    confidences.append(score)\n",
    "\n",
    "            # === Sonuçları ekle ve kaydet\n",
    "            df[\"predicted_label\"] = predicted_labels\n",
    "            df[\"confidence\"] = confidences\n",
    "\n",
    "            cikti_adi = f\"etiketli_{os.path.splitext(dosya)[0]}.csv\"\n",
    "            df.to_csv(cikti_adi, index=False)\n",
    "            print(f\"✅ Kaydedildi: {cikti_adi}\")\n",
    "\n",
    "        except Exception as e:\n",
    "            print(f\"❌ Hata oluştu ({dosya}): {e}\")"
   ]
  }
 ],
 "metadata": {
  "kernelspec": {
   "display_name": "base",
   "language": "python",
   "name": "python3"
  },
  "language_info": {
   "codemirror_mode": {
    "name": "ipython",
    "version": 3
   },
   "file_extension": ".py",
   "mimetype": "text/x-python",
   "name": "python",
   "nbconvert_exporter": "python",
   "pygments_lexer": "ipython3",
   "version": "3.12.4"
  }
 },
 "nbformat": 4,
 "nbformat_minor": 5
}
